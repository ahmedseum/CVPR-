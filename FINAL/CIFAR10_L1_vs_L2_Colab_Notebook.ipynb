{
 "cells": [
  {
   "cell_type": "markdown",
   "id": "b299cabf",
   "metadata": {},
   "source": [
    "# Image Classification Using CIFAR-10 Dataset: L1 vs L2 Distance with 5-Fold Cross-Validation\n"
   ]
  },
  {
   "cell_type": "code",
   "execution_count": null,
   "id": "0ee80531",
   "metadata": {},
   "outputs": [],
   "source": [
    "!pip install opencv-python-headless scikit-learn matplotlib"
   ]
  },
  {
   "cell_type": "code",
   "execution_count": null,
   "id": "a9123e97",
   "metadata": {},
   "outputs": [],
   "source": [
    "\n",
    "from google.colab import drive\n",
    "drive.mount('/content/drive')\n"
   ]
  },
  {
   "cell_type": "code",
   "execution_count": null,
   "id": "a37b268d",
   "metadata": {},
   "outputs": [],
   "source": [
    "\n",
    "import os\n",
    "import cv2\n",
    "import numpy as np\n",
    "import matplotlib.pyplot as plt\n",
    "from sklearn.model_selection import cross_val_score\n",
    "from sklearn.neighbors import KNeighborsClassifier\n"
   ]
  },
  {
   "cell_type": "code",
   "execution_count": null,
   "id": "01abd587",
   "metadata": {},
   "outputs": [],
   "source": [
    "\n",
    "IMG_SIZE = 32\n",
    "DATASET_PATH = '/content/drive/MyDrive/cifar10_animals'  # Change if needed\n",
    "\n",
    "def load_images(dataset_path):\n",
    "    data, labels = [], []\n",
    "    class_names = ['cat', 'dog', 'panda']\n",
    "    \n",
    "    for label, category in enumerate(class_names):\n",
    "        folder = os.path.join(dataset_path, category)\n",
    "        for file in os.listdir(folder)[:1000]:\n",
    "            img_path = os.path.join(folder, file)\n",
    "            img = cv2.imread(img_path)\n",
    "            if img is not None:\n",
    "                gray = cv2.cvtColor(img, cv2.COLOR_BGR2GRAY)\n",
    "                resized = cv2.resize(gray, (IMG_SIZE, IMG_SIZE))\n",
    "                data.append(resized.flatten())\n",
    "                labels.append(label)\n",
    "    \n",
    "    return np.array(data), np.array(labels), class_names\n",
    "\n",
    "X, y, class_names = load_images(DATASET_PATH)\n",
    "print(f'Dataset shape: {X.shape}, Labels: {y.shape}')\n"
   ]
  },
  {
   "cell_type": "code",
   "execution_count": null,
   "id": "05af23ce",
   "metadata": {},
   "outputs": [],
   "source": [
    "\n",
    "def show_samples(X, y):\n",
    "    plt.figure(figsize=(10, 4))\n",
    "    for i in range(6):\n",
    "        plt.subplot(2, 3, i + 1)\n",
    "        plt.imshow(X[i].reshape(IMG_SIZE, IMG_SIZE), cmap='gray')\n",
    "        plt.title(class_names[y[i]])\n",
    "        plt.axis('off')\n",
    "    plt.tight_layout()\n",
    "    plt.show()\n",
    "\n",
    "show_samples(X, y)\n"
   ]
  },
  {
   "cell_type": "code",
   "execution_count": null,
   "id": "8f7e7e83",
   "metadata": {},
   "outputs": [],
   "source": [
    "\n",
    "def evaluate_knn(X, y, distance_metric):\n",
    "    k_vals = list(range(1, 11))\n",
    "    avg_scores = []\n",
    "    for k in k_vals:\n",
    "        knn = KNeighborsClassifier(n_neighbors=k, metric=distance_metric)\n",
    "        scores = cross_val_score(knn, X, y, cv=5)\n",
    "        avg_scores.append(np.mean(scores))\n",
    "    return k_vals, avg_scores\n",
    "\n",
    "k_vals, acc_l1 = evaluate_knn(X, y, 'manhattan')\n",
    "_, acc_l2 = evaluate_knn(X, y, 'euclidean')\n"
   ]
  },
  {
   "cell_type": "code",
   "execution_count": null,
   "id": "6358606b",
   "metadata": {},
   "outputs": [],
   "source": [
    "\n",
    "plt.figure(figsize=(10, 6))\n",
    "plt.plot(k_vals, acc_l1, marker='o', label='Manhattan (L1)')\n",
    "plt.plot(k_vals, acc_l2, marker='s', label='Euclidean (L2)')\n",
    "plt.xlabel('K Value')\n",
    "plt.ylabel('Accuracy')\n",
    "plt.title('Accuracy vs K (5-Fold Cross-Validation)')\n",
    "plt.legend()\n",
    "plt.grid(True)\n",
    "plt.show()\n"
   ]
  },
  {
   "cell_type": "code",
   "execution_count": null,
   "id": "8b58fd67",
   "metadata": {},
   "outputs": [],
   "source": [
    "\n",
    "knn = KNeighborsClassifier(n_neighbors=3, metric='euclidean')\n",
    "knn.fit(X, y)\n",
    "test_images = X[:5]\n",
    "true_labels = y[:5]\n",
    "predicted = knn.predict(test_images)\n",
    "\n",
    "for i in range(5):\n",
    "    plt.imshow(test_images[i].reshape(IMG_SIZE, IMG_SIZE), cmap='gray')\n",
    "    plt.title(f\"True: {class_names[true_labels[i]]} | Pred: {class_names[predicted[i]]}\")\n",
    "    plt.axis('off')\n",
    "    plt.show()\n"
   ]
  },
  {
   "cell_type": "markdown",
   "id": "9f5d973f",
   "metadata": {},
   "source": [
    "\n",
    "## Discussion\n",
    "\n",
    "The Euclidean (L2) distance generally gave better average accuracy than Manhattan (L1), especially for K values between 3–5. This suggests L2 may be better at capturing subtle image differences. \n",
    "\n",
    "The model’s performance may improve with:\n",
    "- Feature scaling\n",
    "- Dimensionality reduction (e.g., PCA)\n",
    "- Using CNNs for feature extraction\n",
    "\n",
    "K values that are too high can reduce sensitivity to local patterns.\n"
   ]
  }
 ],
 "metadata": {},
 "nbformat": 4,
 "nbformat_minor": 5
}